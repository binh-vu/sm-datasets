{
 "cells": [
  {
   "cell_type": "code",
   "execution_count": 1,
   "metadata": {},
   "outputs": [],
   "source": [
    "import glob, sys\n",
    "from pathlib import Path\n",
    "from omegaconf import OmegaConf\n",
    "from tqdm.auto import tqdm\n",
    "from sm.prelude import M, O\n",
    "from grams.inputs import LinkedTable\n",
    "from grams.config import ROOT_DIR"
   ]
  },
  {
   "cell_type": "code",
   "execution_count": 2,
   "metadata": {},
   "outputs": [],
   "source": [
    "from sm_widgets.widgets.annotator import Annotator, BatchAnnotator\n",
    "from sm_widgets_integration.wikidata import get_qnode_db, get_ontclass_db, get_ontprop_db\n",
    "from sm_widgets_integration.with_grams import convert_table\n",
    "\n",
    "qnode_db = get_qnode_db(ROOT_DIR / \"data/qnodes.db\", proxy=True)\n",
    "wdprop_db = get_ontclass_db(ROOT_DIR / \"data/wdprops.db\", proxy=True)\n",
    "wdclass_db = get_ontprop_db(ROOT_DIR / \"data/wdclasses.db\", proxy=True)"
   ]
  },
  {
   "cell_type": "code",
   "execution_count": 3,
   "metadata": {
    "pycharm": {
     "name": "#%% Run Novartis related tables and show the results\n"
    }
   },
   "outputs": [],
   "source": [
    "cwd = \"./v210514/\"\n",
    "table_ids = {Path(x).stem for x in glob.glob(cwd + 'tables/*.csv')}\n",
    "inputs = []\n",
    "for indir in glob.glob(cwd + 'wikidata/descriptions/*'):\n",
    "    infile = M.get_latest_path(indir + '/version.json')\n",
    "    table_id = Path(indir).name\n",
    "    sms = [O.SemanticModel.from_json(x) for x in M.deserialize_json(infile)['sms']]\n",
    "    table = LinkedTable.from_csv_file(cwd + f'tables/{table_id}.csv', cwd + f'wikidata/entities/{table_id}.tsv')\n",
    "    inputs.append([table.id, \"\", convert_table(table), sms])"
   ]
  },
  {
   "cell_type": "code",
   "execution_count": 4,
   "metadata": {},
   "outputs": [
    {
     "data": {
      "application/vnd.jupyter.widget-view+json": {
       "model_id": "577dfdad9e234870b1099e2139c3bd45",
       "version_major": 2,
       "version_minor": 0
      },
      "text/plain": [
       "SlowTunnelWidget(js_endpoint=(0, ''), py_endpoint=(0, ''), tunnel_id='3261af24-03ea-4309-a087-44f5568bdae6')"
      ]
     },
     "metadata": {},
     "output_type": "display_data"
    },
    {
     "data": {
      "application/vnd.jupyter.widget-view+json": {
       "model_id": "60a3f08554f64635ab004cc9ecc33261",
       "version_major": 2,
       "version_minor": 0
      },
      "text/plain": [
       "Output()"
      ]
     },
     "metadata": {},
     "output_type": "display_data"
    },
    {
     "data": {
      "application/javascript": [
       "\n",
       "        \n",
       "    function repeatUntilSuccess(fn, timeout, maxTry) {\n",
       "        if (fn() === true) {\n",
       "            return;\n",
       "        }\n",
       "        if (maxTry === undefined) {\n",
       "            maxTry = 10;\n",
       "        }\n",
       "        if (maxTry === 0) {\n",
       "            console.error(\"Max retries error\");\n",
       "            alert(\"max retries error\");\n",
       "            throw new Error(\"Max retries error\");\n",
       "        } else {\n",
       "            setTimeout(function () {\n",
       "                repeatUntilSuccess(fn, timeout, maxTry - 1);\n",
       "            }, timeout);\n",
       "        }\n",
       "    }\n",
       "    \n",
       "        if (window.IPyApps === undefined) {\n",
       "            window.IPyApps = new Map();\n",
       "        }\n",
       "        function setupAppcae55abe9eca48f192e7e208322db5a0() {\n",
       "            // get tunnel\n",
       "            if (window.IPyCallback === undefined) {\n",
       "                return false;\n",
       "            }\n",
       "            let tunnel = window.IPyCallback.get('3261af24-03ea-4309-a087-44f5568bdae6');\n",
       "            if (tunnel === undefined) {\n",
       "                return false;\n",
       "            }\n",
       "            \n",
       "            // setup html container\n",
       "            \n",
       "            let win = window.open(\"about:blank\", \"app-cae55abe-9eca-48f1-92e7-e208322db5a0\");\n",
       "            let title = win.document.createElement(\"title\");\n",
       "            title.innerHTML = 'Annotator';\n",
       "            win.document.head.appendChild(title);\n",
       "            \n",
       "            let div = win.document.createElement(\"div\");\n",
       "            div.id = 'cae55abe-9eca-48f1-92e7-e208322db5a0';\n",
       "            win.document.body.appendChild(div);\n",
       "            win.document.body.style = \"padding: 8px 8px 0 8px;\";\n",
       "            \n",
       "            \n",
       "            // use the tunnel first to send out the code, after the application is rendered, the listening function \n",
       "            // is going to be replaced by the listener in the application, so we don't have to worry.\n",
       "            tunnel.on_receive(function (version, msg) {\n",
       "                let payload = JSON.parse(msg);\n",
       "                if (payload.id !== '/init/download_code') {\n",
       "                    alert('invalid calling order. you need to set the source code first');\n",
       "                    console.error(\"invalid call order. waiting for source code but get:\", payload);\n",
       "                    return;\n",
       "                }\n",
       "                win.eval(payload.response);\n",
       "                let shadowDOM = false;\n",
       "                win.Annotator.renderApp('cae55abe-9eca-48f1-92e7-e208322db5a0', tunnel, undefined, shadowDOM);\n",
       "                window.IPyApps.set('cae55abe-9eca-48f1-92e7-e208322db5a0', win);\n",
       "                tunnel.send_msg(JSON.stringify({ url: '/init/done', params: null, id: '/init/done' }));\n",
       "            });\n",
       "            tunnel.send_msg(JSON.stringify({ url: '/init/download_code', params: null, id: '/init/download_code' }));\n",
       "            return true;\n",
       "        }\n",
       "        repeatUntilSuccess(setupAppcae55abe9eca48f192e7e208322db5a0, 50, 10);\n",
       "        "
      ],
      "text/plain": [
       "<IPython.core.display.Javascript object>"
      ]
     },
     "metadata": {},
     "output_type": "display_data"
    },
    {
     "data": {
      "application/vnd.jupyter.widget-view+json": {
       "model_id": "9bcb6fba4e2d4d27866828ff87fd88f0",
       "version_major": 2,
       "version_minor": 0
      },
      "text/plain": [
       "SlowTunnelWidget(js_endpoint=(0, ''), py_endpoint=(0, ''), tunnel_id='26e29e80-96b4-4a3c-b73f-5a712496aa49')"
      ]
     },
     "metadata": {},
     "output_type": "display_data"
    },
    {
     "data": {
      "application/javascript": [
       "\n",
       "            \n",
       "    function repeatUntilSuccess(fn, timeout, maxTry) {\n",
       "        if (fn() === true) {\n",
       "            return;\n",
       "        }\n",
       "        if (maxTry === undefined) {\n",
       "            maxTry = 10;\n",
       "        }\n",
       "        if (maxTry === 0) {\n",
       "            console.error(\"Max retries error\");\n",
       "            alert(\"max retries error\");\n",
       "            throw new Error(\"Max retries error\");\n",
       "        } else {\n",
       "            setTimeout(function () {\n",
       "                repeatUntilSuccess(fn, timeout, maxTry - 1);\n",
       "            }, timeout);\n",
       "        }\n",
       "    }\n",
       "    \n",
       "            function setupAppc51a76d10cf446668126a5d11ec3502f() {\n",
       "                if (window.IPyCallback === undefined || window.IPyApps === undefined) {\n",
       "                    return false;\n",
       "                }\n",
       "                let tunnel = window.IPyCallback.get('26e29e80-96b4-4a3c-b73f-5a712496aa49');\n",
       "                if (tunnel === undefined) {\n",
       "                    return false;\n",
       "                }\n",
       "                \n",
       "                let appwin = window.IPyApps.get('cae55abe-9eca-48f1-92e7-e208322db5a0');\n",
       "                if (appwin === undefined) {\n",
       "                    return false;\n",
       "                }\n",
       "                \n",
       "                let container = appwin.document.getElementById('cae55abe-9eca-48f1-92e7-e208322db5a0');\n",
       "                if (container === null) {\n",
       "                    return false;\n",
       "                }\n",
       "                \n",
       "                let div = appwin.document.createElement(\"div\");\n",
       "                div.id = 'c51a76d1-0cf4-4666-8126-a5d11ec3502f';\n",
       "                div.style = \"margin-bottom: 8px\";\n",
       "                container.parentElement.prepend(div);\n",
       "                \n",
       "                // use the tunnel first to send out the code, after the application is rendered, the listening function \n",
       "                // is going to be replaced by the listener in the application, so we don't have to worry.\n",
       "                tunnel.on_receive(function (version, msg) {\n",
       "                    let payload = JSON.parse(msg);\n",
       "                    if (payload.id !== '/init/download_code') {\n",
       "                        alert('invalid calling order. you need to set the source code first');\n",
       "                        console.error(\"invalid call order\", payload);\n",
       "                        return;\n",
       "                    }\n",
       "                    appwin.eval(payload.response);\n",
       "                    appwin.Slider.renderApp('c51a76d1-0cf4-4666-8126-a5d11ec3502f', tunnel);\n",
       "                    window.IPyApps.set('c51a76d1-0cf4-4666-8126-a5d11ec3502f', appwin);\n",
       "                    tunnel.send_msg(JSON.stringify({ url: '/init/done', params: null, id: '/init/done' }));\n",
       "                });\n",
       "                tunnel.send_msg(JSON.stringify({ url: '/init/download_code', params: null, id: '/init/download_code' }));\n",
       "                return true;\n",
       "            }\n",
       "            repeatUntilSuccess(setupAppc51a76d10cf446668126a5d11ec3502f, 50, 10);\n",
       "        "
      ],
      "text/plain": [
       "<IPython.core.display.Javascript object>"
      ]
     },
     "metadata": {},
     "output_type": "display_data"
    },
    {
     "data": {
      "text/plain": [
       "<sm_widgets.widgets.annotator.annotator.BatchAnnotator at 0x7fac8abd5610>"
      ]
     },
     "execution_count": 4,
     "metadata": {},
     "output_type": "execute_result"
    }
   ],
   "source": [
    "annotator = Annotator(qnode_db, wdclass_db, wdprop_db, 'http://www.wikidata.org/prop/P31',\n",
    "                      dev=False,\n",
    "                      savedir='', eshost='', embedded_error_log=True)\n",
    "# annotator.render(same_tab=False)\n",
    "bann = BatchAnnotator(annotator, dev=False)\n",
    "bann.render(same_tab=False)"
   ]
  },
  {
   "cell_type": "code",
   "execution_count": 5,
   "metadata": {},
   "outputs": [],
   "source": [
    "import threading\n",
    "threading.Thread(\n",
    "    target=lambda: bann.set_data(inputs)\n",
    ").start()"
   ]
  },
  {
   "cell_type": "raw",
   "metadata": {},
   "source": [
    "from ipycallback import SlowTunnelWidget\n",
    "from IPython.core.display import Javascript\n",
    "\n",
    "tunnel = SlowTunnelWidget(tunnel_id=\"development\")\n",
    "display(tunnel)\n",
    "display(Javascript(f\"\"\"\n",
    "var msg = window.IPyApps.get('{bann.app_id}').Slider.recordTunnel.serialize();\n",
    "window.IPyCallback.get(\"development\").send_msg(msg);\n",
    "\"\"\"))"
   ]
  },
  {
   "cell_type": "raw",
   "metadata": {},
   "source": [
    "import time, json\n",
    "for i in range(5):\n",
    "    msg = tunnel.py_endpoint[1]\n",
    "    if msg == '':\n",
    "        print(\".\", end=\"\")\n",
    "        time.sleep(0.1)\n",
    "        continue\n",
    "        \n",
    "    with open(\"/workspace/sm-dev/sm-gui/webapps/slider/src/replayDebugData.ts\", \"w\") as f:\n",
    "        f.write(\"export const history = \")\n",
    "        f.write(json.dumps(json.loads(msg), indent=4))"
   ]
  },
  {
   "cell_type": "code",
   "execution_count": null,
   "metadata": {},
   "outputs": [],
   "source": []
  }
 ],
 "metadata": {
  "kernelspec": {
   "display_name": "grams",
   "language": "python",
   "name": "grams"
  },
  "language_info": {
   "codemirror_mode": {
    "name": "ipython",
    "version": 3
   },
   "file_extension": ".py",
   "mimetype": "text/x-python",
   "name": "python",
   "nbconvert_exporter": "python",
   "pygments_lexer": "ipython3",
   "version": "3.8.5"
  }
 },
 "nbformat": 4,
 "nbformat_minor": 4
}